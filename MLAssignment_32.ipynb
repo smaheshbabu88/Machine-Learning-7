{
 "cells": [
  {
   "cell_type": "code",
   "execution_count": 1,
   "metadata": {},
   "outputs": [
    {
     "name": "stdout",
     "output_type": "stream",
     "text": [
      "['player' 'pos' 'age' 'bref_team_id' 'g' 'gs' 'mp' 'fg' 'fga' 'fg.' 'x3p'\n",
      " 'x3pa' 'x3p.' 'x2p' 'x2pa' 'x2p.' 'efg.' 'ft' 'fta' 'ft.' 'orb' 'drb'\n",
      " 'trb' 'ast' 'stl' 'blk' 'tov' 'pf' 'pts' 'season' 'season_end']\n"
     ]
    }
   ],
   "source": [
    "import pandas\n",
    "with open(\"nba_2013.csv\", 'r') as csvfile:\n",
    "    nba_raw = pandas.read_csv(csvfile)\n",
    "    nba = nba_raw.dropna(axis=0, how='any', thresh=None, subset=None, inplace=False)\n",
    "print(nba.columns.values)"
   ]
  },
  {
   "cell_type": "code",
   "execution_count": 2,
   "metadata": {},
   "outputs": [],
   "source": [
    "import math\n",
    "selected_player = nba[nba[\"player\"] == \"LeBron James\"].iloc[0]\n",
    "\n",
    "# Choose only the numeric columns\n",
    "distance_columns = ['age', 'g', 'gs', 'mp', 'fg', 'fga', 'fg.', 'x3p', 'x3pa', 'x3p.', 'x2p', 'x2pa', 'x2p.', 'efg.', 'ft', 'fta', 'ft.', 'orb', 'drb', 'trb', 'ast', 'stl', 'blk', 'tov', 'pf', 'pts']\n",
    "\n",
    "def euclidean_distance(row):\n",
    "    \"\"\"\n",
    "    A simple euclidean distance function\n",
    "    \"\"\"\n",
    "    inner_value = 0\n",
    "    for k in distance_columns:\n",
    "        inner_value += (row[k] - selected_player[k]) ** 2\n",
    "    return math.sqrt(inner_value)\n",
    "\n",
    "# Find the distance from each player in the dataset to lebron.\n",
    "lebron_distance = nba.apply(euclidean_distance, axis=1)\n"
   ]
  },
  {
   "cell_type": "code",
   "execution_count": 3,
   "metadata": {},
   "outputs": [],
   "source": [
    "# Select only the numeric columns from the NBA dataset\n",
    "nba_numeric = nba[distance_columns]\n",
    "# Normalize all of the numeric columns\n",
    "nba_normalized = (nba_numeric - nba_numeric.mean()) / nba_numeric.std()"
   ]
  },
  {
   "cell_type": "code",
   "execution_count": 4,
   "metadata": {},
   "outputs": [],
   "source": [
    "from scipy.spatial import distance\n",
    "\n",
    "# Fill in NA values in nba_normalized\n",
    "nba_normalized.fillna(0, inplace=True)\n",
    "\n",
    "# Find the normalized vector for lebron james.\n",
    "lebron_normalized = nba_normalized[nba[\"player\"] == \"LeBron James\"]\n",
    "\n",
    "# Find the distance between lebron james and everyone else.\n",
    "euclidean_distances = nba_normalized.apply(lambda row: distance.euclidean(row, lebron_normalized), axis=1)\n",
    "\n",
    "# Create a new dataframe with distances.\n",
    "distance_frame = pandas.DataFrame(data={\"dist\": euclidean_distances, \"idx\": euclidean_distances.index})\n",
    "distance_frame.sort_values(\"dist\", inplace=True)\n",
    "# Find the most similar player to lebron (the lowest distance to lebron is lebron, the second smallest is the most similar non-lebron player)\n",
    "second_smallest = distance_frame.iloc[1][\"idx\"]\n",
    "most_similar_to_lebron = nba.loc[int(second_smallest)][\"player\"]"
   ]
  },
  {
   "cell_type": "code",
   "execution_count": 5,
   "metadata": {},
   "outputs": [],
   "source": [
    "import random\n",
    "from numpy.random import permutation\n",
    "\n",
    "# Randomly shuffle the index of nba.\n",
    "random_indices = permutation(nba.index)\n",
    "\n",
    "# Set a cutoff for how many items we want in the test set (in this case 1/3 of the items)\n",
    "test_cutoff = math.floor(len(nba)/3)\n",
    "\n",
    "# Generate the test set by taking the first 1/3 of the randomly shuffled indices.\n",
    "test = nba.loc[random_indices[1:test_cutoff]]\n",
    "\n",
    "# Generate the train set with the rest of the data.\n",
    "train = nba.loc[random_indices[test_cutoff:]]"
   ]
  },
  {
   "cell_type": "code",
   "execution_count": 6,
   "metadata": {},
   "outputs": [],
   "source": [
    "# The columns that we will be making predictions with.\n",
    "x_columns = ['age', 'g', 'gs', 'mp', 'fg', 'fga', 'fg.', 'x3p', 'x3pa', 'x3p.', 'x2p', 'x2pa', 'x2p.', 'efg.', 'ft', 'fta', 'ft.', 'orb', 'drb', 'trb', 'ast', 'stl', 'blk', 'tov', 'pf']\n",
    "# The column that we want to predict.\n",
    "y_column = [\"pts\"]\n",
    "\n",
    "from sklearn.neighbors import KNeighborsRegressor\n",
    "# Create the knn model.\n",
    "# Look at the five closest neighbors.\n",
    "knn = KNeighborsRegressor(n_neighbors=5)\n",
    "# Fit the model on the training data.\n",
    "knn.fit(train[x_columns], train[y_column])\n",
    "# Make point predictions on the test set using the fit model.\n",
    "predictions = knn.predict(test[x_columns])\n"
   ]
  },
  {
   "cell_type": "code",
   "execution_count": 7,
   "metadata": {},
   "outputs": [
    {
     "data": {
      "text/plain": [
       "array([[ 282. ],\n",
       "       [ 796.4],\n",
       "       [ 505.4],\n",
       "       [ 900.2],\n",
       "       [1085.6],\n",
       "       [ 614. ],\n",
       "       [1188.2],\n",
       "       [1317.2],\n",
       "       [ 965.8],\n",
       "       [1405. ],\n",
       "       [ 792.4],\n",
       "       [  83.8],\n",
       "       [ 781.8],\n",
       "       [  36.4],\n",
       "       [ 286.8],\n",
       "       [ 679.6],\n",
       "       [ 141. ],\n",
       "       [ 184.2],\n",
       "       [ 321.4],\n",
       "       [ 349.2],\n",
       "       [ 749.8],\n",
       "       [1355.6],\n",
       "       [1048.6],\n",
       "       [  74. ],\n",
       "       [  85.6],\n",
       "       [ 338. ],\n",
       "       [1023. ],\n",
       "       [ 895.8],\n",
       "       [ 358. ],\n",
       "       [ 107.6],\n",
       "       [  32.6],\n",
       "       [ 229.8],\n",
       "       [ 207.8],\n",
       "       [1100. ],\n",
       "       [ 969.4],\n",
       "       [1049.6],\n",
       "       [ 824.6],\n",
       "       [ 320. ],\n",
       "       [ 813.2],\n",
       "       [ 115.8],\n",
       "       [  59.2],\n",
       "       [ 184.8],\n",
       "       [  84. ],\n",
       "       [ 535. ],\n",
       "       [  58.6],\n",
       "       [ 600.8],\n",
       "       [ 703.4],\n",
       "       [ 198. ],\n",
       "       [  23. ],\n",
       "       [ 455.8],\n",
       "       [1104.8],\n",
       "       [ 142.8],\n",
       "       [1232.8],\n",
       "       [ 176. ],\n",
       "       [ 174. ],\n",
       "       [ 889.4],\n",
       "       [ 101.4],\n",
       "       [  86.2],\n",
       "       [ 327. ],\n",
       "       [ 957.4],\n",
       "       [  83.6],\n",
       "       [ 661.2],\n",
       "       [ 224.6],\n",
       "       [ 985. ],\n",
       "       [ 271.6],\n",
       "       [ 407.6],\n",
       "       [1132.2],\n",
       "       [  58. ],\n",
       "       [ 211.4],\n",
       "       [ 776.8],\n",
       "       [ 770. ],\n",
       "       [ 350.4],\n",
       "       [ 151.6],\n",
       "       [ 575. ],\n",
       "       [  17.6],\n",
       "       [ 831.6],\n",
       "       [1157.4],\n",
       "       [ 402.8],\n",
       "       [  30. ],\n",
       "       [1409. ],\n",
       "       [  80.2],\n",
       "       [ 607.6],\n",
       "       [ 321. ],\n",
       "       [   8. ],\n",
       "       [ 194.6],\n",
       "       [ 567.8],\n",
       "       [ 769.8],\n",
       "       [1551.8],\n",
       "       [   9.6],\n",
       "       [  90.2],\n",
       "       [  92.4],\n",
       "       [ 650.8],\n",
       "       [ 895.8],\n",
       "       [ 781.8],\n",
       "       [ 413. ],\n",
       "       [ 493.8],\n",
       "       [ 723.4],\n",
       "       [ 576. ],\n",
       "       [  80.2],\n",
       "       [ 591.4],\n",
       "       [ 190.6],\n",
       "       [ 361.8],\n",
       "       [ 373. ],\n",
       "       [ 492.4],\n",
       "       [   9.6],\n",
       "       [ 102.8],\n",
       "       [1709. ],\n",
       "       [ 613.8],\n",
       "       [ 469.8],\n",
       "       [1153.2],\n",
       "       [1101.6],\n",
       "       [ 393.8],\n",
       "       [ 466.2],\n",
       "       [  78.8],\n",
       "       [ 973. ],\n",
       "       [ 201. ],\n",
       "       [  59.2],\n",
       "       [ 432.4],\n",
       "       [  88.2],\n",
       "       [ 542. ],\n",
       "       [ 841.8],\n",
       "       [  36.2],\n",
       "       [1195.8],\n",
       "       [ 320. ],\n",
       "       [1709. ],\n",
       "       [1409.4],\n",
       "       [1255. ],\n",
       "       [ 568. ],\n",
       "       [ 124.6],\n",
       "       [ 911.2],\n",
       "       [ 460.6],\n",
       "       [ 697.6],\n",
       "       [ 606.4]])"
      ]
     },
     "execution_count": 7,
     "metadata": {},
     "output_type": "execute_result"
    }
   ],
   "source": [
    "predictions"
   ]
  },
  {
   "cell_type": "code",
   "execution_count": 8,
   "metadata": {},
   "outputs": [],
   "source": [
    "# Get the actual values for the test set.\n",
    "actual = test[y_column]\n",
    "\n",
    "# Compute the mean squared error of our predictions.\n",
    "mse = (((predictions - actual) ** 2).sum()) / len(predictions)\n"
   ]
  },
  {
   "cell_type": "code",
   "execution_count": 9,
   "metadata": {},
   "outputs": [
    {
     "name": "stdout",
     "output_type": "stream",
     "text": [
      "pts    4344.651128\n",
      "dtype: float64\n"
     ]
    }
   ],
   "source": [
    "print(mse)"
   ]
  },
  {
   "cell_type": "code",
   "execution_count": null,
   "metadata": {},
   "outputs": [],
   "source": []
  }
 ],
 "metadata": {
  "kernelspec": {
   "display_name": "Python 3",
   "language": "python",
   "name": "python3"
  },
  "language_info": {
   "codemirror_mode": {
    "name": "ipython",
    "version": 3
   },
   "file_extension": ".py",
   "mimetype": "text/x-python",
   "name": "python",
   "nbconvert_exporter": "python",
   "pygments_lexer": "ipython3",
   "version": "3.6.8"
  }
 },
 "nbformat": 4,
 "nbformat_minor": 2
}
